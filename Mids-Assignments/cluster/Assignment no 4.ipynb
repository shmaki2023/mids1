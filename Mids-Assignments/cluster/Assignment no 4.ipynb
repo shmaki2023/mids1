{
 "cells": [
  {
   "cell_type": "markdown",
   "id": "2cb69ea1",
   "metadata": {},
   "source": [
    "# *Assignment no 4*\n",
    "## *Name - Kiran Shete*\n",
    "## *Roll no - 33568*"
   ]
  },
  {
   "cell_type": "code",
   "execution_count": 1,
   "id": "8fde7f1d",
   "metadata": {},
   "outputs": [],
   "source": [
    "# We have given a collection of 8 points.\n",
    "# P1=[0.1,0.6]\n",
    "# P2=[0.15,0.71]\n",
    "# P3=[0.08,0.9]\n",
    "# P4=[0.16, 0.85]\n",
    "# P5=[0.2,0.3]\n",
    "# P6=[0.25,0.5]\n",
    "# P7=[0.24,0.1]\n",
    "# P8=[0.3,0.2]\n",
    "# Perform the k-mean clustering with initial centroids as m1=P1 =Cluster#1=C1 and\n",
    "# m2=P8=cluster#2=C2.\n",
    "# Answer the following:\n",
    "# 1] Which cluster does P6 belong to? \n",
    "# 2] What is the population of cluster around m2?\n",
    "# 3] What is updated value of m1 and m2?"
   ]
  },
  {
   "cell_type": "markdown",
   "id": "bc216755",
   "metadata": {},
   "source": [
    "## *Including the libaries*"
   ]
  },
  {
   "cell_type": "code",
   "execution_count": 2,
   "id": "0e75ce0a",
   "metadata": {},
   "outputs": [],
   "source": [
    "import numpy as np\n",
    "import matplotlib.pyplot as plt"
   ]
  },
  {
   "cell_type": "markdown",
   "id": "29ea28f1",
   "metadata": {},
   "source": [
    "## *Define the points and initial centroids*"
   ]
  },
  {
   "cell_type": "code",
   "execution_count": 3,
   "id": "a47e6510",
   "metadata": {},
   "outputs": [],
   "source": [
    "P1 = np.array([0.1, 0.6])\n",
    "P2 = np.array([0.15, 0.71])\n",
    "P3 = np.array([0.08, 0.9])\n",
    "P4 = np.array([0.16, 0.85])\n",
    "P5 = np.array([0.2, 0.3])\n",
    "P6 = np.array([0.25, 0.5])\n",
    "P7 = np.array([0.24, 0.1])\n",
    "P8 = np.array([0.3, 0.2])\n",
    "\n",
    "m1 = P1\n",
    "m2 = P8"
   ]
  },
  {
   "cell_type": "markdown",
   "id": "060c7745",
   "metadata": {},
   "source": [
    "## *Define the maximum number of iterations*"
   ]
  },
  {
   "cell_type": "code",
   "execution_count": 4,
   "id": "b3a77fbf",
   "metadata": {},
   "outputs": [],
   "source": [
    "max_iter = 100\n",
    "# Perform K-means clustering\n",
    "for i in range(max_iter):\n",
    "    # Assign each point to the closest centroid\n",
    "    C1 = []\n",
    "    C2 = []\n",
    "    for point in [P1, P2, P3, P4, P5, P6, P7, P8]:\n",
    "        dist1 = np.linalg.norm(point - m1)\n",
    "        dist2 = np.linalg.norm(point - m2)\n",
    "        if dist1 < dist2:\n",
    "            C1.append(point)\n",
    "        else:\n",
    "            C2.append(point)\n",
    " \n",
    "# Recalculate the centroids and update to the centroids closest\n",
    "    m1_new = np.mean(C1, axis=0)\n",
    "    m2_new = np.mean(C2, axis=0)\n",
    "\n",
    "    # Check for convergence\n",
    "    if np.allclose(m1, m1_new) and np.allclose(m2, m2_new):\n",
    "        break\n",
    " \n",
    "    m1 = m1_new\n",
    "    m2 = m2_new"
   ]
  },
  {
   "cell_type": "markdown",
   "id": "9673fbe2",
   "metadata": {},
   "source": [
    "## *Print the final clusters*"
   ]
  },
  {
   "cell_type": "code",
   "execution_count": 5,
   "id": "d643ccad",
   "metadata": {},
   "outputs": [
    {
     "name": "stdout",
     "output_type": "stream",
     "text": [
      "Cluster 1: [array([0.1, 0.6]), array([0.15, 0.71]), array([0.08, 0.9 ]), array([0.16, 0.85]), array([0.25, 0.5 ])]\n",
      "Length:  5\n",
      "Cluster 2: [array([0.2, 0.3]), array([0.24, 0.1 ]), array([0.3, 0.2])]\n",
      "Length:  3\n",
      "\n",
      "[0.148 0.712]\n",
      "[0.24666667 0.2       ]\n"
     ]
    }
   ],
   "source": [
    "print(\"Cluster 1:\", C1)\n",
    "print(\"Length: \", len(C1))\n",
    "print(\"Cluster 2:\", C2)\n",
    "print(\"Length: \", len(C2))\n",
    "print()\n",
    "print(m1)\n",
    "print(m2)"
   ]
  },
  {
   "cell_type": "code",
   "execution_count": 6,
   "id": "c7b88b14",
   "metadata": {},
   "outputs": [
    {
     "data": {
      "image/png": "[encoded data removed]",
      "text/plain": [
       "<Figure size 432x288 with 1 Axes>"
      ]
     },
     "metadata": {
      "needs_background": "light"
     },
     "output_type": "display_data"
    }
   ],
   "source": [
    "\n",
    "\n",
    "# assuming C1 and C2 are lists of (x, y) coordinates for the two clusters\n",
    "# and m1, m2 are the (x, y) coordinates of the centroids\n",
    "C1 = [(1, 2), (3, 4), (5, 6)]\n",
    "C2 = [(2, 1), (4, 3), (6, 5)]\n",
    "m1 = (2, 3)\n",
    "m2 = (4, 5)\n",
    "\n",
    "# plot the clusters and centroids on a scatter plot\n",
    "plt.scatter(*zip(*C1), c='red', label='Cluster 1')\n",
    "plt.scatter(*zip(*C2), c='blue', label='Cluster 2')\n",
    "plt.scatter(*zip(m1, m2), c='green', label='Centroids')\n",
    "\n",
    "# add legend and axis labels\n",
    "plt.legend()\n",
    "plt.xlabel('x')\n",
    "plt.ylabel('y')\n",
    "\n",
    "plt.show()\n"
   ]
  }
 ],
 "metadata": {
  "kernelspec": {
   "display_name": "Python 3 (ipykernel)",
   "language": "python",
   "name": "python3"
  },
  "language_info": {
   "codemirror_mode": {
    "name": "ipython",
    "version": 3
   },
   "file_extension": ".py",
   "mimetype": "text/x-python",
   "name": "python",
   "nbconvert_exporter": "python",
   "pygments_lexer": "ipython3",
   "version": "3.9.13"
  }
 },
 "nbformat": 4,
 "nbformat_minor": 5
}
